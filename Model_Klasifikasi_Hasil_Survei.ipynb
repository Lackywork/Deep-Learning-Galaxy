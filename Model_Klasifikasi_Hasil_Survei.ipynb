{
  "nbformat": 4,
  "nbformat_minor": 0,
  "metadata": {
    "colab": {
      "provenance": []
    },
    "kernelspec": {
      "name": "python3",
      "display_name": "Python 3"
    },
    "language_info": {
      "name": "python"
    }
  },
  "cells": [
    {
      "cell_type": "code",
      "execution_count": null,
      "metadata": {
        "id": "J7h4z7LItshf",
        "colab": {
          "base_uri": "https://localhost:8080/"
        },
        "outputId": "8661a9fb-92c7-42df-f7a4-f335cbd10854"
      },
      "outputs": [
        {
          "output_type": "stream",
          "name": "stdout",
          "text": [
            "Drive already mounted at /content/drive; to attempt to forcibly remount, call drive.mount(\"/content/drive\", force_remount=True).\n"
          ]
        }
      ],
      "source": [
        "import os\n",
        "import re\n",
        "import numpy as np\n",
        "import matplotlib.pyplot as plt\n",
        "\n",
        "import pandas as pd\n",
        "from pandas import read_csv\n",
        "\n",
        "import tensorflow as tf\n",
        "from tensorflow import keras\n",
        "from tensorflow.keras import layers\n",
        "from tensorflow.keras.models import Sequential\n",
        "\n",
        "from google.colab import drive\n",
        "drive.mount('/content/drive')"
      ]
    },
    {
      "cell_type": "code",
      "execution_count": null,
      "metadata": {
        "id": "Z4h6yxn5s_4w"
      },
      "outputs": [],
      "source": [
        "solusi_data = read_csv('/content/drive/MyDrive/Galaxy training_solutions_rev1.csv')\n",
        "image_data_galaksi = '/content/drive/MyDrive/images_galaxy/'\n",
        "sd = solusi_data\n",
        "img = image_data_galaksi"
      ]
    },
    {
      "cell_type": "code",
      "execution_count": null,
      "metadata": {
        "id": "hvpGrjlLm-Tf"
      },
      "outputs": [],
      "source": [
        "#data = np.empty((0,96,96,3))\n",
        "#for (root, dirs, files) in os.walk(img):\n",
        "  #for i in range(0,data_train):\n",
        "    #files = sorted(files, key=str)\n",
        "    #path = os.path.join(root, files[i])\n",
        "    #imgs = tf.keras.preprocessing.image.load_img(path, target_size=(96, 96))\n",
        "    #image = tf.keras.preprocessing.image.img_to_array(imgs)\n",
        "    #image = np.expand_dims(image, axis=0)\n",
        "    #image /= 255.0\n",
        "    #data = np.vstack((data,image))\n",
        "\n",
        "#data di-save\n",
        "#np.save(\"/content/drive/MyDrive/Tugas_TA/data_mentah\", data)\n",
        "\n",
        "#data yang sudah di-save di GDrive di-load ulang\n",
        "data = np.load(\"/content/drive/MyDrive/TugasTA/data_mentah96x96.npy\")"
      ]
    },
    {
      "cell_type": "code",
      "execution_count": null,
      "metadata": {
        "id": "mqfoYsLMtaTW"
      },
      "outputs": [],
      "source": [
        "j = 1      # iterasi awal untuk kolom pertama ; j+3 = iterasi syarat ke-2 ; j+5 = iterasi syarat ke-3\n",
        "k = 14     # iterasi syarat ke-2 \n",
        "l = 8     # iterasi syarat ke-4\n",
        "\n",
        "data_train = 9000\n",
        "label = []\n",
        "for i in range(0, data_train):\n",
        "  id_galaxy = sd._get_value(i,0, takeable = True)   # nama ID galaksi \n",
        "  a = np.array(sd.iloc[i,j:(j+3)])                  # data syarat ke-1 dari 1.1 - 1.3\n",
        "  b = np.array(sd.iloc[i,k:(k+2)])                  # data syarat ke-6 dari 6.1 - 6.2\n",
        "  c = np.array(sd.iloc[i,l:(l+2)])                  # data syarat ke-4 dari 4.1 (index : l = 8) - 4.2\n",
        "\n",
        "  if (sd._get_value(i,j, takeable = True) == max(a) and sd._get_value(i, (k+1), takeable = True) == max(b)): # syarat 1.1 dan 6.2\n",
        "    label.append(a)\n",
        "      \n",
        "  elif (sd._get_value(i, (j+1), takeable = True) == max(a) and sd._get_value(i, l, takeable = True) == max(c)): # syarat 1.2 dan 4.1\n",
        "    label.append(a)\n",
        "\n",
        "  elif sd._get_value(i, (j+2), takeable = True) == max(a): # syarat 1.3 \n",
        "    label.append(a)\n",
        "\n",
        "  else:  \n",
        "    label.append(a)\n",
        "    \n",
        "label = np.asarray(label)"
      ]
    },
    {
      "cell_type": "code",
      "execution_count": null,
      "metadata": {
        "id": "2WCh9r7Togum"
      },
      "outputs": [],
      "source": [
        "def load_dataset(): \n",
        "  \n",
        "  classes = ['Elips', 'Spiral', 'Tidak Beraturan', 'Artifact']\n",
        "  x = data\n",
        "  y = label\n",
        "             \n",
        "  return x, y, classes"
      ]
    },
    {
      "cell_type": "code",
      "execution_count": null,
      "metadata": {
        "id": "BOi_yfxLTxrf"
      },
      "outputs": [],
      "source": [
        "x, y, classes = load_dataset()"
      ]
    },
    {
      "cell_type": "code",
      "execution_count": null,
      "metadata": {
        "id": "2Ux2Hfo_UJdU"
      },
      "outputs": [],
      "source": [
        "from sklearn.model_selection import train_test_split\n",
        "x_train, x_test, y_train, y_test = train_test_split(x, y, train_size=0.7,test_size=0.3)"
      ]
    },
    {
      "cell_type": "markdown",
      "metadata": {
        "id": "-h9tyIHH9wda"
      },
      "source": [
        "# Architecture #1"
      ]
    },
    {
      "cell_type": "code",
      "execution_count": null,
      "metadata": {
        "id": "On8PC4n7-Zc1",
        "colab": {
          "base_uri": "https://localhost:8080/"
        },
        "outputId": "ce6870a0-1fa4-4147-a2b6-72b016c535a9"
      },
      "outputs": [
        {
          "output_type": "stream",
          "name": "stdout",
          "text": [
            "Model: \"sequential\"\n",
            "_________________________________________________________________\n",
            " Layer (type)                Output Shape              Param #   \n",
            "=================================================================\n",
            " conv2d (Conv2D)             (None, 96, 96, 4)         112       \n",
            "                                                                 \n",
            " max_pooling2d (MaxPooling2D  (None, 48, 48, 4)        0         \n",
            " )                                                               \n",
            "                                                                 \n",
            " conv2d_1 (Conv2D)           (None, 48, 48, 64)        2368      \n",
            "                                                                 \n",
            " max_pooling2d_1 (MaxPooling  (None, 24, 24, 64)       0         \n",
            " 2D)                                                             \n",
            "                                                                 \n",
            " dropout (Dropout)           (None, 24, 24, 64)        0         \n",
            "                                                                 \n",
            " flatten (Flatten)           (None, 36864)             0         \n",
            "                                                                 \n",
            " dropout_1 (Dropout)         (None, 36864)             0         \n",
            "                                                                 \n",
            " batch_normalization (BatchN  (None, 36864)            147456    \n",
            " ormalization)                                                   \n",
            "                                                                 \n",
            " dense (Dense)               (None, 512)               18874880  \n",
            "                                                                 \n",
            " dense_1 (Dense)             (None, 512)               262656    \n",
            "                                                                 \n",
            " dropout_2 (Dropout)         (None, 512)               0         \n",
            "                                                                 \n",
            " dense_2 (Dense)             (None, 3)                 1539      \n",
            "                                                                 \n",
            "=================================================================\n",
            "Total params: 19,289,011\n",
            "Trainable params: 19,215,283\n",
            "Non-trainable params: 73,728\n",
            "_________________________________________________________________\n"
          ]
        }
      ],
      "source": [
        "model = Sequential(\n",
        "    [\n",
        "     layers.Conv2D(4, (3,3), padding='same', activation='relu', input_shape=(96, 96, 3)), \n",
        "     layers.MaxPooling2D(pool_size=(2, 2)),\n",
        "     layers.Conv2D(64, (3,3), padding='same', activation='relu'),\n",
        "     layers.MaxPooling2D(pool_size=(2, 2)),\n",
        "     layers.Dropout(0.5),\n",
        "     layers.Flatten(),\n",
        "     layers.Dropout(0.5),\n",
        "     layers.BatchNormalization(),\n",
        "     layers.Dense(512, activation=\"relu\"),\n",
        "     layers.Dense(512, activation=\"relu\"),\n",
        "     layers.Dropout(0.5),\n",
        "     layers.Dense(3, activation='softmax')\n",
        "    ]\n",
        ")                                              \n",
        "\n",
        "model.compile(loss='huber', optimizer='adam', metrics=['accuracy'])\n",
        "model.summary()"
      ]
    },
    {
      "cell_type": "code",
      "execution_count": null,
      "metadata": {
        "id": "vpYuYAJt-Zc9",
        "colab": {
          "base_uri": "https://localhost:8080/"
        },
        "outputId": "42a5ff90-2670-4f8b-d8ac-43bcca5c90f5"
      },
      "outputs": [
        {
          "output_type": "stream",
          "name": "stdout",
          "text": [
            "Epoch 1/30\n",
            "788/788 [==============================] - 144s 183ms/step - loss: 0.0221 - accuracy: 0.7024 - val_loss: 0.0224 - val_accuracy: 0.7093\n",
            "Epoch 2/30\n",
            "788/788 [==============================] - 144s 183ms/step - loss: 0.0172 - accuracy: 0.7643 - val_loss: 0.0249 - val_accuracy: 0.7244\n",
            "Epoch 3/30\n",
            "788/788 [==============================] - 144s 183ms/step - loss: 0.0156 - accuracy: 0.7729 - val_loss: 0.0316 - val_accuracy: 0.7430\n",
            "Epoch 4/30\n",
            "788/788 [==============================] - 144s 183ms/step - loss: 0.0150 - accuracy: 0.7865 - val_loss: 0.0260 - val_accuracy: 0.7044\n",
            "Epoch 5/30\n",
            "788/788 [==============================] - 144s 182ms/step - loss: 0.0141 - accuracy: 0.7859 - val_loss: 0.0270 - val_accuracy: 0.7281\n",
            "Epoch 6/30\n",
            "788/788 [==============================] - 144s 182ms/step - loss: 0.0132 - accuracy: 0.7992 - val_loss: 0.0296 - val_accuracy: 0.7211\n",
            "Epoch 7/30\n",
            "788/788 [==============================] - 144s 183ms/step - loss: 0.0128 - accuracy: 0.8011 - val_loss: 0.0270 - val_accuracy: 0.7448\n",
            "Epoch 8/30\n",
            "788/788 [==============================] - 144s 183ms/step - loss: 0.0124 - accuracy: 0.8087 - val_loss: 0.0340 - val_accuracy: 0.7137\n",
            "Epoch 9/30\n",
            "788/788 [==============================] - 144s 183ms/step - loss: 0.0125 - accuracy: 0.8100 - val_loss: 0.0295 - val_accuracy: 0.7389\n",
            "Epoch 10/30\n",
            "788/788 [==============================] - 145s 183ms/step - loss: 0.0120 - accuracy: 0.8063 - val_loss: 0.0306 - val_accuracy: 0.7189\n",
            "Epoch 11/30\n",
            "788/788 [==============================] - 144s 183ms/step - loss: 0.0114 - accuracy: 0.8194 - val_loss: 0.0326 - val_accuracy: 0.7237\n",
            "Epoch 12/30\n",
            "788/788 [==============================] - 144s 183ms/step - loss: 0.0110 - accuracy: 0.8197 - val_loss: 0.0299 - val_accuracy: 0.7174\n",
            "Epoch 13/30\n",
            "788/788 [==============================] - 145s 183ms/step - loss: 0.0111 - accuracy: 0.8179 - val_loss: 0.0374 - val_accuracy: 0.7170\n",
            "Epoch 14/30\n",
            "788/788 [==============================] - 144s 183ms/step - loss: 0.0111 - accuracy: 0.8170 - val_loss: 0.0352 - val_accuracy: 0.7030\n",
            "Epoch 15/30\n",
            "788/788 [==============================] - 144s 183ms/step - loss: 0.0112 - accuracy: 0.8144 - val_loss: 0.0299 - val_accuracy: 0.7270\n",
            "Epoch 16/30\n",
            "788/788 [==============================] - 144s 183ms/step - loss: 0.0099 - accuracy: 0.8265 - val_loss: 0.0357 - val_accuracy: 0.7133\n",
            "Epoch 17/30\n",
            "788/788 [==============================] - 144s 183ms/step - loss: 0.0098 - accuracy: 0.8363 - val_loss: 0.0339 - val_accuracy: 0.7237\n",
            "Epoch 18/30\n",
            "788/788 [==============================] - 144s 183ms/step - loss: 0.0098 - accuracy: 0.8286 - val_loss: 0.0311 - val_accuracy: 0.7222\n",
            "Epoch 19/30\n",
            "788/788 [==============================] - 145s 184ms/step - loss: 0.0098 - accuracy: 0.8359 - val_loss: 0.0304 - val_accuracy: 0.7081\n",
            "Epoch 20/30\n",
            "788/788 [==============================] - 145s 184ms/step - loss: 0.0095 - accuracy: 0.8376 - val_loss: 0.0341 - val_accuracy: 0.7100\n",
            "Epoch 21/30\n",
            "788/788 [==============================] - 144s 183ms/step - loss: 0.0091 - accuracy: 0.8430 - val_loss: 0.0305 - val_accuracy: 0.7252\n",
            "Epoch 22/30\n",
            "788/788 [==============================] - 145s 184ms/step - loss: 0.0085 - accuracy: 0.8476 - val_loss: 0.0367 - val_accuracy: 0.7111\n",
            "Epoch 23/30\n",
            "788/788 [==============================] - 145s 184ms/step - loss: 0.0087 - accuracy: 0.8441 - val_loss: 0.0366 - val_accuracy: 0.7085\n",
            "Epoch 24/30\n",
            "788/788 [==============================] - 145s 184ms/step - loss: 0.0087 - accuracy: 0.8397 - val_loss: 0.0362 - val_accuracy: 0.7107\n",
            "Epoch 25/30\n",
            "788/788 [==============================] - 145s 184ms/step - loss: 0.0085 - accuracy: 0.8476 - val_loss: 0.0417 - val_accuracy: 0.6926\n",
            "Epoch 26/30\n",
            "788/788 [==============================] - 145s 183ms/step - loss: 0.0082 - accuracy: 0.8522 - val_loss: 0.0416 - val_accuracy: 0.6900\n",
            "Epoch 27/30\n",
            "788/788 [==============================] - 145s 184ms/step - loss: 0.0082 - accuracy: 0.8527 - val_loss: 0.0374 - val_accuracy: 0.7222\n",
            "Epoch 28/30\n",
            "788/788 [==============================] - 145s 184ms/step - loss: 0.0084 - accuracy: 0.8513 - val_loss: 0.0378 - val_accuracy: 0.6981\n",
            "Epoch 29/30\n",
            "788/788 [==============================] - 145s 184ms/step - loss: 0.0077 - accuracy: 0.8556 - val_loss: 0.0364 - val_accuracy: 0.7133\n",
            "Epoch 30/30\n",
            "788/788 [==============================] - 144s 183ms/step - loss: 0.0077 - accuracy: 0.8544 - val_loss: 0.0427 - val_accuracy: 0.6922\n"
          ]
        }
      ],
      "source": [
        "B = 8\n",
        "ep = 30\n",
        "history = model.fit(x_train, y_train, epochs=ep, validation_data=(x_test, y_test), batch_size=B)"
      ]
    },
    {
      "cell_type": "markdown",
      "metadata": {
        "id": "UUNWkOz3-EIJ"
      },
      "source": [
        "# Architecture #2"
      ]
    },
    {
      "cell_type": "code",
      "source": [
        "model2 = Sequential(\n",
        "    [\n",
        "     layers.Conv2D(18, (3,3), padding='same', activation='relu', input_shape=(96, 96, 3)),\n",
        "     layers.MaxPooling2D(pool_size=(2, 2)),\n",
        "     layers.Conv2D(54, (3,3), padding='same', activation='relu'), \n",
        "     layers.MaxPooling2D(pool_size=(2, 2)),\n",
        "     layers.Dropout(0.5),\n",
        "     layers.Flatten(),\n",
        "     layers.Dropout(0.5),\n",
        "     layers.BatchNormalization(),\n",
        "     layers.Dense(512, activation=\"relu\"),\n",
        "     layers.Dense(512, activation=\"relu\"),\n",
        "     layers.Dropout(0.5),\n",
        "     layers.Dense(3, activation='softmax')\n",
        "    ]\n",
        ")      \n",
        "\n",
        "model2.compile(loss='huber', optimizer='adam', metrics=['accuracy'])\n",
        "model2.summary()"
      ],
      "metadata": {
        "id": "q54XcKf4Yjfy",
        "colab": {
          "base_uri": "https://localhost:8080/"
        },
        "outputId": "a04d85cf-cb81-4800-dd7b-15b737cb9828"
      },
      "execution_count": null,
      "outputs": [
        {
          "output_type": "stream",
          "name": "stdout",
          "text": [
            "Model: \"sequential_1\"\n",
            "_________________________________________________________________\n",
            " Layer (type)                Output Shape              Param #   \n",
            "=================================================================\n",
            " conv2d_2 (Conv2D)           (None, 96, 96, 18)        504       \n",
            "                                                                 \n",
            " max_pooling2d_2 (MaxPooling  (None, 48, 48, 18)       0         \n",
            " 2D)                                                             \n",
            "                                                                 \n",
            " conv2d_3 (Conv2D)           (None, 48, 48, 54)        8802      \n",
            "                                                                 \n",
            " max_pooling2d_3 (MaxPooling  (None, 24, 24, 54)       0         \n",
            " 2D)                                                             \n",
            "                                                                 \n",
            " dropout_3 (Dropout)         (None, 24, 24, 54)        0         \n",
            "                                                                 \n",
            " flatten_1 (Flatten)         (None, 31104)             0         \n",
            "                                                                 \n",
            " dropout_4 (Dropout)         (None, 31104)             0         \n",
            "                                                                 \n",
            " batch_normalization_1 (Batc  (None, 31104)            124416    \n",
            " hNormalization)                                                 \n",
            "                                                                 \n",
            " dense_3 (Dense)             (None, 512)               15925760  \n",
            "                                                                 \n",
            " dense_4 (Dense)             (None, 512)               262656    \n",
            "                                                                 \n",
            " dropout_5 (Dropout)         (None, 512)               0         \n",
            "                                                                 \n",
            " dense_5 (Dense)             (None, 3)                 1539      \n",
            "                                                                 \n",
            "=================================================================\n",
            "Total params: 16,323,677\n",
            "Trainable params: 16,261,469\n",
            "Non-trainable params: 62,208\n",
            "_________________________________________________________________\n"
          ]
        }
      ]
    },
    {
      "cell_type": "code",
      "source": [
        "B = 8\n",
        "ep = 30\n",
        "history2 = model2.fit(x_train, y_train, batch_size=B, validation_data=(x_test, y_test), epochs=ep)"
      ],
      "metadata": {
        "id": "wahxQLC_ZaK5",
        "colab": {
          "base_uri": "https://localhost:8080/"
        },
        "outputId": "afa5506e-322b-409a-8dc3-77392da59e1b"
      },
      "execution_count": null,
      "outputs": [
        {
          "output_type": "stream",
          "name": "stdout",
          "text": [
            "Epoch 1/30\n",
            "788/788 [==============================] - 150s 189ms/step - loss: 0.0242 - accuracy: 0.6867 - val_loss: 0.0244 - val_accuracy: 0.7081\n",
            "Epoch 2/30\n",
            "788/788 [==============================] - 148s 188ms/step - loss: 0.0196 - accuracy: 0.7379 - val_loss: 0.0256 - val_accuracy: 0.7259\n",
            "Epoch 3/30\n",
            "788/788 [==============================] - 148s 188ms/step - loss: 0.0177 - accuracy: 0.7576 - val_loss: 0.0299 - val_accuracy: 0.7200\n",
            "Epoch 4/30\n",
            "788/788 [==============================] - 148s 188ms/step - loss: 0.0168 - accuracy: 0.7594 - val_loss: 0.0345 - val_accuracy: 0.6870\n",
            "Epoch 5/30\n",
            "788/788 [==============================] - 148s 188ms/step - loss: 0.0161 - accuracy: 0.7665 - val_loss: 0.0363 - val_accuracy: 0.7044\n",
            "Epoch 6/30\n",
            "788/788 [==============================] - 148s 188ms/step - loss: 0.0155 - accuracy: 0.7770 - val_loss: 0.0322 - val_accuracy: 0.7011\n",
            "Epoch 7/30\n",
            "788/788 [==============================] - 148s 188ms/step - loss: 0.0146 - accuracy: 0.7816 - val_loss: 0.0344 - val_accuracy: 0.6959\n",
            "Epoch 8/30\n",
            "788/788 [==============================] - 148s 188ms/step - loss: 0.0136 - accuracy: 0.7968 - val_loss: 0.0367 - val_accuracy: 0.7119\n",
            "Epoch 9/30\n",
            "788/788 [==============================] - 148s 188ms/step - loss: 0.0135 - accuracy: 0.7910 - val_loss: 0.0434 - val_accuracy: 0.6837\n",
            "Epoch 10/30\n",
            "788/788 [==============================] - 148s 188ms/step - loss: 0.0128 - accuracy: 0.7956 - val_loss: 0.0403 - val_accuracy: 0.7063\n",
            "Epoch 11/30\n",
            "788/788 [==============================] - 147s 187ms/step - loss: 0.0126 - accuracy: 0.7992 - val_loss: 0.0355 - val_accuracy: 0.7078\n",
            "Epoch 12/30\n",
            "788/788 [==============================] - 147s 187ms/step - loss: 0.0124 - accuracy: 0.8033 - val_loss: 0.0388 - val_accuracy: 0.6985\n",
            "Epoch 13/30\n",
            "788/788 [==============================] - 147s 187ms/step - loss: 0.0120 - accuracy: 0.8062 - val_loss: 0.0405 - val_accuracy: 0.7067\n",
            "Epoch 14/30\n",
            "788/788 [==============================] - 147s 187ms/step - loss: 0.0116 - accuracy: 0.8087 - val_loss: 0.0400 - val_accuracy: 0.7011\n",
            "Epoch 15/30\n",
            "788/788 [==============================] - 147s 187ms/step - loss: 0.0117 - accuracy: 0.8167 - val_loss: 0.0391 - val_accuracy: 0.6700\n",
            "Epoch 16/30\n",
            "788/788 [==============================] - 147s 187ms/step - loss: 0.0111 - accuracy: 0.8187 - val_loss: 0.0421 - val_accuracy: 0.6722\n",
            "Epoch 17/30\n",
            "788/788 [==============================] - 147s 187ms/step - loss: 0.0108 - accuracy: 0.8214 - val_loss: 0.0417 - val_accuracy: 0.6963\n",
            "Epoch 18/30\n",
            "788/788 [==============================] - 147s 187ms/step - loss: 0.0109 - accuracy: 0.8186 - val_loss: 0.0392 - val_accuracy: 0.6930\n",
            "Epoch 19/30\n",
            "788/788 [==============================] - 148s 187ms/step - loss: 0.0103 - accuracy: 0.8351 - val_loss: 0.0467 - val_accuracy: 0.6859\n",
            "Epoch 20/30\n",
            "788/788 [==============================] - 147s 187ms/step - loss: 0.0100 - accuracy: 0.8303 - val_loss: 0.0423 - val_accuracy: 0.6889\n",
            "Epoch 21/30\n",
            "788/788 [==============================] - 148s 187ms/step - loss: 0.0095 - accuracy: 0.8413 - val_loss: 0.0386 - val_accuracy: 0.6804\n",
            "Epoch 22/30\n",
            "788/788 [==============================] - 148s 188ms/step - loss: 0.0096 - accuracy: 0.8295 - val_loss: 0.0419 - val_accuracy: 0.6933\n",
            "Epoch 23/30\n",
            "788/788 [==============================] - 148s 187ms/step - loss: 0.0092 - accuracy: 0.8354 - val_loss: 0.0423 - val_accuracy: 0.6722\n",
            "Epoch 24/30\n",
            "788/788 [==============================] - 148s 187ms/step - loss: 0.0091 - accuracy: 0.8460 - val_loss: 0.0427 - val_accuracy: 0.6552\n",
            "Epoch 25/30\n",
            "788/788 [==============================] - 147s 187ms/step - loss: 0.0090 - accuracy: 0.8402 - val_loss: 0.0491 - val_accuracy: 0.6578\n",
            "Epoch 26/30\n",
            "788/788 [==============================] - 147s 187ms/step - loss: 0.0090 - accuracy: 0.8503 - val_loss: 0.0475 - val_accuracy: 0.6748\n",
            "Epoch 27/30\n",
            "788/788 [==============================] - 148s 187ms/step - loss: 0.0088 - accuracy: 0.8419 - val_loss: 0.0422 - val_accuracy: 0.6644\n",
            "Epoch 28/30\n",
            "788/788 [==============================] - 147s 187ms/step - loss: 0.0086 - accuracy: 0.8471 - val_loss: 0.0480 - val_accuracy: 0.6604\n",
            "Epoch 29/30\n",
            "788/788 [==============================] - 148s 187ms/step - loss: 0.0091 - accuracy: 0.8410 - val_loss: 0.0456 - val_accuracy: 0.6707\n",
            "Epoch 30/30\n",
            "788/788 [==============================] - 148s 187ms/step - loss: 0.0086 - accuracy: 0.8473 - val_loss: 0.0471 - val_accuracy: 0.6759\n"
          ]
        }
      ]
    },
    {
      "cell_type": "markdown",
      "metadata": {
        "id": "9wybpPKj-qwQ"
      },
      "source": [
        "# Architecture #3"
      ]
    },
    {
      "cell_type": "code",
      "execution_count": null,
      "metadata": {
        "id": "rBYkb9i6XG16",
        "colab": {
          "base_uri": "https://localhost:8080/"
        },
        "outputId": "e7974c91-1da0-4ffe-90ed-96d3292d9ceb"
      },
      "outputs": [
        {
          "output_type": "stream",
          "name": "stdout",
          "text": [
            "Model: \"sequential_2\"\n",
            "_________________________________________________________________\n",
            " Layer (type)                Output Shape              Param #   \n",
            "=================================================================\n",
            " conv2d_4 (Conv2D)           (None, 96, 96, 4)         112       \n",
            "                                                                 \n",
            " max_pooling2d_4 (MaxPooling  (None, 48, 48, 4)        0         \n",
            " 2D)                                                             \n",
            "                                                                 \n",
            " conv2d_5 (Conv2D)           (None, 48, 48, 8)         296       \n",
            "                                                                 \n",
            " max_pooling2d_5 (MaxPooling  (None, 24, 24, 8)        0         \n",
            " 2D)                                                             \n",
            "                                                                 \n",
            " conv2d_6 (Conv2D)           (None, 24, 24, 16)        1168      \n",
            "                                                                 \n",
            " max_pooling2d_6 (MaxPooling  (None, 12, 12, 16)       0         \n",
            " 2D)                                                             \n",
            "                                                                 \n",
            " dropout_6 (Dropout)         (None, 12, 12, 16)        0         \n",
            "                                                                 \n",
            " flatten_2 (Flatten)         (None, 2304)              0         \n",
            "                                                                 \n",
            " dropout_7 (Dropout)         (None, 2304)              0         \n",
            "                                                                 \n",
            " dense_6 (Dense)             (None, 512)               1180160   \n",
            "                                                                 \n",
            " dense_7 (Dense)             (None, 512)               262656    \n",
            "                                                                 \n",
            " dropout_8 (Dropout)         (None, 512)               0         \n",
            "                                                                 \n",
            " dense_8 (Dense)             (None, 3)                 1539      \n",
            "                                                                 \n",
            "=================================================================\n",
            "Total params: 1,445,931\n",
            "Trainable params: 1,445,931\n",
            "Non-trainable params: 0\n",
            "_________________________________________________________________\n"
          ]
        }
      ],
      "source": [
        "model3 = Sequential(\n",
        "    [\n",
        "     layers.Conv2D(4, (3,3), padding='same', activation='relu', input_shape=(96, 96, 3)), \n",
        "     layers.MaxPooling2D(pool_size=(2, 2)),\n",
        "     layers.Conv2D(8, (3,3), padding='same', activation='relu'),\n",
        "     layers.MaxPooling2D(pool_size=(2, 2)),\n",
        "     layers.Conv2D(16, (3,3), padding='same', activation='relu'),\n",
        "     layers.MaxPooling2D(pool_size=(2, 2)),\n",
        "     layers.Dropout(0.5),\n",
        "     layers.Flatten(),\n",
        "     layers.Dropout(0.5),\n",
        "     layers.Dense(512, activation=\"relu\"),\n",
        "     layers.Dense(512, activation=\"relu\"),\n",
        "     layers.Dropout(0.5),\n",
        "     layers.Dense(3, activation='softmax')\n",
        "    ]\n",
        ")                                              \n",
        "\n",
        "model3.compile(loss='huber', optimizer='adam', metrics=['accuracy'])\n",
        "model3.summary()"
      ]
    },
    {
      "cell_type": "code",
      "execution_count": null,
      "metadata": {
        "id": "uIDqPc9pK5HY",
        "colab": {
          "base_uri": "https://localhost:8080/"
        },
        "outputId": "5ba13564-44ec-4c8b-ea14-214d934d9b0f"
      },
      "outputs": [
        {
          "output_type": "stream",
          "name": "stdout",
          "text": [
            "Epoch 1/30\n",
            "788/788 [==============================] - 44s 54ms/step - loss: 0.0243 - accuracy: 0.6483 - val_loss: 0.0180 - val_accuracy: 0.7544\n",
            "Epoch 2/30\n",
            "788/788 [==============================] - 42s 54ms/step - loss: 0.0208 - accuracy: 0.7160 - val_loss: 0.0199 - val_accuracy: 0.7107\n",
            "Epoch 3/30\n",
            "788/788 [==============================] - 42s 54ms/step - loss: 0.0196 - accuracy: 0.7341 - val_loss: 0.0159 - val_accuracy: 0.7826\n",
            "Epoch 4/30\n",
            "788/788 [==============================] - 43s 54ms/step - loss: 0.0187 - accuracy: 0.7527 - val_loss: 0.0166 - val_accuracy: 0.7674\n",
            "Epoch 5/30\n",
            "788/788 [==============================] - 43s 54ms/step - loss: 0.0183 - accuracy: 0.7514 - val_loss: 0.0162 - val_accuracy: 0.7741\n",
            "Epoch 6/30\n",
            "788/788 [==============================] - 42s 54ms/step - loss: 0.0177 - accuracy: 0.7602 - val_loss: 0.0157 - val_accuracy: 0.7796\n",
            "Epoch 7/30\n",
            "788/788 [==============================] - 42s 54ms/step - loss: 0.0175 - accuracy: 0.7610 - val_loss: 0.0164 - val_accuracy: 0.7852\n",
            "Epoch 8/30\n",
            "788/788 [==============================] - 43s 54ms/step - loss: 0.0169 - accuracy: 0.7743 - val_loss: 0.0147 - val_accuracy: 0.7833\n",
            "Epoch 9/30\n",
            "788/788 [==============================] - 43s 54ms/step - loss: 0.0166 - accuracy: 0.7737 - val_loss: 0.0147 - val_accuracy: 0.7926\n",
            "Epoch 10/30\n",
            "788/788 [==============================] - 43s 54ms/step - loss: 0.0161 - accuracy: 0.7744 - val_loss: 0.0148 - val_accuracy: 0.7974\n",
            "Epoch 11/30\n",
            "788/788 [==============================] - 43s 54ms/step - loss: 0.0160 - accuracy: 0.7802 - val_loss: 0.0151 - val_accuracy: 0.7874\n",
            "Epoch 12/30\n",
            "788/788 [==============================] - 43s 54ms/step - loss: 0.0158 - accuracy: 0.7797 - val_loss: 0.0142 - val_accuracy: 0.8019\n",
            "Epoch 13/30\n",
            "788/788 [==============================] - 43s 54ms/step - loss: 0.0156 - accuracy: 0.7825 - val_loss: 0.0144 - val_accuracy: 0.7907\n",
            "Epoch 14/30\n",
            "788/788 [==============================] - 43s 54ms/step - loss: 0.0152 - accuracy: 0.7898 - val_loss: 0.0144 - val_accuracy: 0.7956\n",
            "Epoch 15/30\n",
            "788/788 [==============================] - 42s 54ms/step - loss: 0.0151 - accuracy: 0.7863 - val_loss: 0.0141 - val_accuracy: 0.7948\n",
            "Epoch 16/30\n",
            "788/788 [==============================] - 43s 55ms/step - loss: 0.0151 - accuracy: 0.7846 - val_loss: 0.0148 - val_accuracy: 0.7867\n",
            "Epoch 17/30\n",
            "788/788 [==============================] - 43s 54ms/step - loss: 0.0147 - accuracy: 0.7911 - val_loss: 0.0147 - val_accuracy: 0.7870\n",
            "Epoch 18/30\n",
            "788/788 [==============================] - 43s 54ms/step - loss: 0.0148 - accuracy: 0.7905 - val_loss: 0.0139 - val_accuracy: 0.7993\n",
            "Epoch 19/30\n",
            "788/788 [==============================] - 43s 54ms/step - loss: 0.0144 - accuracy: 0.7967 - val_loss: 0.0141 - val_accuracy: 0.7978\n",
            "Epoch 20/30\n",
            "788/788 [==============================] - 43s 55ms/step - loss: 0.0143 - accuracy: 0.7951 - val_loss: 0.0146 - val_accuracy: 0.7926\n",
            "Epoch 21/30\n",
            "788/788 [==============================] - 43s 54ms/step - loss: 0.0141 - accuracy: 0.7954 - val_loss: 0.0147 - val_accuracy: 0.7974\n",
            "Epoch 22/30\n",
            "788/788 [==============================] - 43s 54ms/step - loss: 0.0138 - accuracy: 0.7967 - val_loss: 0.0144 - val_accuracy: 0.7926\n",
            "Epoch 23/30\n",
            "788/788 [==============================] - 43s 54ms/step - loss: 0.0140 - accuracy: 0.7957 - val_loss: 0.0148 - val_accuracy: 0.7844\n",
            "Epoch 24/30\n",
            "788/788 [==============================] - 43s 54ms/step - loss: 0.0137 - accuracy: 0.8008 - val_loss: 0.0140 - val_accuracy: 0.7941\n",
            "Epoch 25/30\n",
            "788/788 [==============================] - 43s 54ms/step - loss: 0.0135 - accuracy: 0.7986 - val_loss: 0.0140 - val_accuracy: 0.8019\n",
            "Epoch 26/30\n",
            "788/788 [==============================] - 43s 54ms/step - loss: 0.0133 - accuracy: 0.8002 - val_loss: 0.0141 - val_accuracy: 0.8015\n",
            "Epoch 27/30\n",
            "788/788 [==============================] - 42s 54ms/step - loss: 0.0133 - accuracy: 0.7992 - val_loss: 0.0135 - val_accuracy: 0.7985\n",
            "Epoch 28/30\n",
            "788/788 [==============================] - 43s 54ms/step - loss: 0.0131 - accuracy: 0.8043 - val_loss: 0.0142 - val_accuracy: 0.7996\n",
            "Epoch 29/30\n",
            "788/788 [==============================] - 43s 54ms/step - loss: 0.0129 - accuracy: 0.8117 - val_loss: 0.0141 - val_accuracy: 0.7959\n",
            "Epoch 30/30\n",
            "788/788 [==============================] - 42s 54ms/step - loss: 0.0128 - accuracy: 0.8113 - val_loss: 0.0150 - val_accuracy: 0.7856\n"
          ]
        }
      ],
      "source": [
        "B = 8\n",
        "ep = 30\n",
        "history3 = model3.fit(x_train, y_train, batch_size=B, validation_data=(x_test, y_test), epochs=ep)"
      ]
    },
    {
      "cell_type": "code",
      "execution_count": null,
      "metadata": {
        "id": "K5xR3VJC-z_q",
        "colab": {
          "base_uri": "https://localhost:8080/",
          "height": 552
        },
        "outputId": "6ec77770-5b57-45b3-9358-e12c8335dff2"
      },
      "outputs": [
        {
          "output_type": "display_data",
          "data": {
            "text/plain": [
              "<Figure size 432x288 with 1 Axes>"
            ],
            "image/png": "[encoded data removed]"
          },
          "metadata": {
            "needs_background": "light"
          }
        },
        {
          "output_type": "stream",
          "name": "stdout",
          "text": [
            "\n",
            "\n"
          ]
        },
        {
          "output_type": "display_data",
          "data": {
            "text/plain": [
              "<Figure size 432x288 with 1 Axes>"
            ],
            "image/png": "[encoded data removed]"
          },
          "metadata": {
            "needs_background": "light"
          }
        }
      ],
      "source": [
        "loss = history.history['loss']\n",
        "val_loss = history.history['val_loss']\n",
        "loss2 = history2.history['loss']\n",
        "val_loss2 = history2.history['val_loss']\n",
        "loss3 = history3.history['loss']\n",
        "val_loss3 = history3.history['val_loss']\n",
        "epoch = range(1, len(loss)+1)\n",
        "\n",
        "plt.plot(epoch, loss, label = 'loss') \n",
        "plt.plot(epoch, loss2, label = 'loss2') \n",
        "plt.plot(epoch, loss3, label = 'loss3') \n",
        "plt.legend()\n",
        "plt.show()\n",
        "\n",
        "print(\"\\n\")\n",
        "\n",
        "plt.plot(epoch, val_loss, label = 'val_loss')\n",
        "plt.plot(epoch, val_loss2, label = 'val_loss2')\n",
        "plt.plot(epoch, val_loss3, label = 'val_loss3')\n",
        "plt.legend()\n",
        "plt.show()\n"
      ]
    }
  ]
}